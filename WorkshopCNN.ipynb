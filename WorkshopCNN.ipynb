{
  "nbformat": 4,
  "nbformat_minor": 0,
  "metadata": {
    "colab": {
      "provenance": [],
      "gpuType": "T4"
    },
    "kernelspec": {
      "name": "python3",
      "display_name": "Python 3"
    },
    "language_info": {
      "name": "python"
    },
    "accelerator": "GPU"
  },
  "cells": [
    {
      "cell_type": "markdown",
      "metadata": {
        "id": "swNS8mSP-J6f"
      },
      "source": [
        "## Perform standard imports\n",
        "\n",
        "**[PyTorch](https://pytorch.org/docs/stable/index.html)**"
      ]
    },
    {
      "cell_type": "code",
      "execution_count": null,
      "metadata": {
        "id": "ERRDd2Yi-J6f"
      },
      "outputs": [],
      "source": [
        "import torch\n",
        "import torch.nn as nn\n",
        "import torch.nn.functional as F          # adds some efficiency\n",
        "from torch.utils.data import DataLoader  # lets us load data in batches\n",
        "from torch.utils.data import Subset      # it is used to split our data\n",
        "from torchvision import datasets, transforms\n",
        "from torchsummary import summary\n",
        "\n",
        "from sklearn.model_selection import train_test_split # it is used to split our data\n",
        "\n",
        "import numpy as np\n",
        "import pandas as pd\n",
        "import matplotlib.pyplot as plt\n",
        "%matplotlib inline\n",
        "\n",
        "device = torch.device(\"cuda\" if torch.cuda.is_available() else \"cpu\")"
      ]
    },
    {
      "cell_type": "markdown",
      "source": [
        "# Load the MNIST dataset\n",
        "PyTorch makes the MNIST dataset available through <a href='https://pytorch.org/vision/stable/index.html'><tt><strong>torchvision</strong></tt></a>. The first time it's called, the dataset will be downloaded onto your computer to the path specified. From that point, torchvision will always look for a local copy before attempting another download.\n"
      ],
      "metadata": {
        "id": "onuGCGmT-3o0"
      }
    },
    {
      "cell_type": "markdown",
      "source": [
        "### Define transform\n",
        "As part of the loading process, we can apply multiple transformations (*`reshape, convert to tensor, normalize, etc.`*) to the incoming data. For this exercise we only need to **convert images to tensors**.\n",
        "\n",
        "**[transforms.Compose()](https://pytorch.org/vision/main/generated/torchvision.transforms.Compose.html)**\n",
        "\n"
      ],
      "metadata": {
        "id": "kCORoIPDkyNC"
      }
    },
    {
      "cell_type": "code",
      "source": [
        "transform = transforms.Compose([transforms.ToTensor(),])"
      ],
      "metadata": {
        "id": "W44SFpS7iSKV"
      },
      "execution_count": null,
      "outputs": []
    },
    {
      "cell_type": "markdown",
      "source": [
        "### Load the training set\n",
        "\n",
        "**[torchvision.datasets.MNIST()](https://pytorch.org/vision/stable/generated/torchvision.datasets.MNIST.html)**\n",
        "\n"
      ],
      "metadata": {
        "id": "2L5P77tgiV-y"
      }
    },
    {
      "cell_type": "code",
      "source": [
        "train_data = datasets.MNIST(\"MNIST\",\n",
        "                           download = True,\n",
        "                           train = True,\n",
        "                            transform = transform)\n",
        "\n",
        "train_data"
      ],
      "metadata": {
        "id": "sBjMJM_viZej"
      },
      "execution_count": null,
      "outputs": []
    },
    {
      "cell_type": "markdown",
      "source": [
        "### Load the test set\n",
        "There's a companion set of MNIST data containing 10,000 records accessible by setting **train=False**. As before, torchvision will only download this once, and in the future will look for the local copy."
      ],
      "metadata": {
        "id": "Con9hh5Zif1l"
      }
    },
    {
      "cell_type": "code",
      "source": [
        "test_data = datasets.MNIST(\"MNIST\",\n",
        "                           download = True,\n",
        "                           train = False,\n",
        "                            transform = transform)\n",
        "\n",
        "test_data"
      ],
      "metadata": {
        "id": "gxACOrS0_nqa",
        "colab": {
          "base_uri": "https://localhost:8080/"
        },
        "outputId": "43d58942-d666-4eb5-89df-62df9f339791"
      },
      "execution_count": null,
      "outputs": [
        {
          "output_type": "execute_result",
          "data": {
            "text/plain": [
              "Dataset MNIST\n",
              "    Number of datapoints: 10000\n",
              "    Root location: MNIST\n",
              "    Split: Test\n",
              "    StandardTransform\n",
              "Transform: Compose(\n",
              "               ToTensor()\n",
              "           )"
            ]
          },
          "metadata": {},
          "execution_count": 4
        }
      ]
    },
    {
      "cell_type": "markdown",
      "source": [
        "### The first record from `train_data`"
      ],
      "metadata": {
        "id": "JdEb27y_maL-"
      }
    },
    {
      "cell_type": "markdown",
      "source": [
        "Calling the first record from <tt>train_data</tt> returns a two-item tuple. The first item is our 28x28 tensor representing the image. The second is a label."
      ],
      "metadata": {
        "id": "Dc9yXS4ki007"
      }
    },
    {
      "cell_type": "code",
      "source": [
        "image, label = train_data[0]\n",
        "print('Shape : ',image.shape,'\\nLabel :',label)"
      ],
      "metadata": {
        "id": "dOVa467G_pJl",
        "colab": {
          "base_uri": "https://localhost:8080/"
        },
        "outputId": "cec57a44-98d4-4aff-f5fd-9a82997e5f7c"
      },
      "execution_count": null,
      "outputs": [
        {
          "output_type": "stream",
          "name": "stdout",
          "text": [
            "Shape :  torch.Size([1, 28, 28]) \n",
            "Label : 5\n"
          ]
        }
      ]
    },
    {
      "cell_type": "markdown",
      "metadata": {
        "id": "JnH-XS3XYrG1"
      },
      "source": [
        "### View the image\n",
        "Matplotlib can interpret pixel values through a variety of <a href='https://matplotlib.org/tutorials/colors/colormaps.html'>colormaps</a>."
      ]
    },
    {
      "cell_type": "code",
      "source": [
        "plt.imshow(train_data[0][0].reshape((28,28)),\n",
        "           cmap=plt.get_cmap(\"copper\"));"
      ],
      "metadata": {
        "id": "iSl4LxXNoHdu",
        "colab": {
          "base_uri": "https://localhost:8080/",
          "height": 430
        },
        "outputId": "a77df8f0-eef8-44b2-f035-6401acc8d864"
      },
      "execution_count": null,
      "outputs": [
        {
          "output_type": "display_data",
          "data": {
            "text/plain": [
              "<Figure size 640x480 with 1 Axes>"
            ],
            "image/png": "[encoded data removed]"
          },
          "metadata": {}
        }
      ]
    },
    {
      "cell_type": "markdown",
      "metadata": {
        "id": "qEzH_bmRYrG4"
      },
      "source": [
        "## Batch loading with DataLoader\n",
        "\n",
        "This section shows how to take advantage of PyTorch's <a href='https://pytorch.org/docs/stable/data.html#torch.utils.data.DataLoader'><tt><strong>DataLoader</strong></tt></a> tool.\n",
        "This technique becomes very helpful with large datasets.\n",
        "\n",
        "In the cell below, the first parameter is a PyTorch <a href='https://pytorch.org/docs/stable/data.html#torch.utils.data.Dataset'><em>Dataset</em></a> object (an object that supports data loading and sampling).<br>\n",
        "The <tt><strong>batch_size</strong></tt> is the number of records to be processed at a time. If it's not evenly divisible into the dataset, then the final batch contains the remainder.<br>\n",
        "Setting <tt><strong>shuffle</strong></tt> to True means that the dataset will be shuffled after each epoch.\n",
        "\n",
        "<div class=\"alert alert-info\"><strong>NOTE:</strong> DataLoader takes an optional <tt><strong>num_workers</strong></tt> parameter that sets up how many subprocesses to use for data loading. This behaves differently with different operating systems so we've omitted it here. See <a href='https://pytorch.org/docs/stable/data.html#torch.utils.data.DataLoader'>the docs</a> for more information.</div>"
      ]
    },
    {
      "cell_type": "code",
      "execution_count": null,
      "metadata": {
        "id": "e2dphfwWYrG4"
      },
      "outputs": [],
      "source": [
        "train_loader = DataLoader(train_data,\n",
        "                          batch_size=64,\n",
        "                          shuffle=True)\n",
        "\n",
        "test_loader = DataLoader(test_data,\n",
        "                         batch_size=64,\n",
        "                         shuffle=True)"
      ]
    },
    {
      "cell_type": "markdown",
      "metadata": {
        "id": "d343PGMtYrHI"
      },
      "source": [
        "The batch tensors fed in by **DataLoader have a shape of** [64, 1, 28, 28]:"
      ]
    },
    {
      "cell_type": "code",
      "execution_count": null,
      "metadata": {
        "id": "maL_5YSHYrHI",
        "colab": {
          "base_uri": "https://localhost:8080/"
        },
        "outputId": "a647e7cc-ef5c-4df2-87a7-8c052d2d21f5"
      },
      "outputs": [
        {
          "output_type": "stream",
          "name": "stdout",
          "text": [
            "Batch shape: torch.Size([64, 1, 28, 28])\n"
          ]
        }
      ],
      "source": [
        "for images, labels in train_loader:\n",
        "    print('Batch shape:', images.size())\n",
        "    break"
      ]
    },
    {
      "cell_type": "markdown",
      "metadata": {
        "id": "JEUC952fYrHJ"
      },
      "source": [
        "## Flatten the data\n",
        "\n",
        "We can **flatten** them using <tt>.view()</tt>"
      ]
    },
    {
      "cell_type": "code",
      "execution_count": null,
      "metadata": {
        "id": "Vda0GFobYrHJ",
        "colab": {
          "base_uri": "https://localhost:8080/"
        },
        "outputId": "1ac59616-7087-4b91-cf75-b879b6e2fc3a"
      },
      "outputs": [
        {
          "output_type": "execute_result",
          "data": {
            "text/plain": [
              "torch.Size([64, 784])"
            ]
          },
          "metadata": {},
          "execution_count": 16
        }
      ],
      "source": [
        "images.view(64, -1).size()"
      ]
    },
    {
      "cell_type": "markdown",
      "source": [
        "We'll do this just before applying the model to our data."
      ],
      "metadata": {
        "id": "EHI9sRl9p0s0"
      }
    },
    {
      "cell_type": "markdown",
      "metadata": {
        "id": "Hdq3sLe8-J6d"
      },
      "source": [
        "# MNIST Code Along with ANN\n",
        "Before we start working with Convolutional Neural Networks (CNN), let's model the <a href='https://en.wikipedia.org/wiki/MNIST_database'>MNIST dataset</a> using only linear layers.<br>\n",
        "In this exercise we'll use the same logic laid out in the ANN notebook. We'll reshape the MNIST data from a 28x28 image to a flattened 1x784 vector to mimic a single row of 784 features."
      ]
    },
    {
      "cell_type": "markdown",
      "metadata": {
        "id": "UJwWMNE5YrG8"
      },
      "source": [
        "## Define the model\n",
        "For this exercise we'll use fully connected layers to develop a <a href='https://en.wikipedia.org/wiki/Multilayer_perceptron'>multilayer perceptron</a>.<br>\n",
        "Our **input size is 784** once we flatten the incoming 28x28 tensors.<br>\n",
        "Our **output size represents the 10 possible digits**.<br>\n",
        "We'll set our **hidden layers to [128, 64]** for now. Once you've completed the exercise feel free to come back and try different values."
      ]
    },
    {
      "cell_type": "code",
      "execution_count": null,
      "metadata": {
        "id": "Xmq84QZSYrG8"
      },
      "outputs": [],
      "source": [
        "class MLP(nn.Module):\n",
        "    def __init__(self, input_dim=784, output_dim=10, layers=[128,64]):\n",
        "        super().__init__()\n",
        "        self.fc1 = nn.Linear(input_dim, layers[0])\n",
        "        self.fc2 = nn.Linear(layers[0], layers[1])\n",
        "        self.fc3 = nn.Linear(layers[1], output_dim)\n",
        "\n",
        "    def forward(self, X):\n",
        "      X = F.relu(self.fc1(X))\n",
        "      X = F.relu(self.fc2(X))\n",
        "      X = self.fc3(X)\n",
        "      return X"
      ]
    },
    {
      "cell_type": "code",
      "source": [
        "model = MLP()\n",
        "summary(model, input_size=(28*28,))"
      ],
      "metadata": {
        "id": "MaHytEuG4sLL",
        "colab": {
          "base_uri": "https://localhost:8080/"
        },
        "outputId": "eed128fb-0da8-4a7b-c24e-37efc1c46bea"
      },
      "execution_count": null,
      "outputs": [
        {
          "output_type": "stream",
          "name": "stdout",
          "text": [
            "----------------------------------------------------------------\n",
            "        Layer (type)               Output Shape         Param #\n",
            "================================================================\n",
            "            Linear-1                  [-1, 128]         100,480\n",
            "            Linear-2                   [-1, 64]           8,256\n",
            "            Linear-3                   [-1, 10]             650\n",
            "================================================================\n",
            "Total params: 109,386\n",
            "Trainable params: 109,386\n",
            "Non-trainable params: 0\n",
            "----------------------------------------------------------------\n",
            "Input size (MB): 0.00\n",
            "Forward/backward pass size (MB): 0.00\n",
            "Params size (MB): 0.42\n",
            "Estimated Total Size (MB): 0.42\n",
            "----------------------------------------------------------------\n"
          ]
        }
      ]
    },
    {
      "cell_type": "code",
      "source": [
        "print(model)"
      ],
      "metadata": {
        "id": "tr6tPBn6w9Da",
        "colab": {
          "base_uri": "https://localhost:8080/"
        },
        "outputId": "9946d595-b46e-4593-e932-acb739342cfd"
      },
      "execution_count": null,
      "outputs": [
        {
          "output_type": "stream",
          "name": "stdout",
          "text": [
            "MLP(\n",
            "  (fc1): Linear(in_features=784, out_features=128, bias=True)\n",
            "  (fc2): Linear(in_features=128, out_features=64, bias=True)\n",
            "  (fc3): Linear(in_features=64, out_features=10, bias=True)\n",
            ")\n"
          ]
        }
      ]
    },
    {
      "cell_type": "markdown",
      "metadata": {
        "id": "EAxUX2lXYrHI"
      },
      "source": [
        "## Define loss function & optimizer"
      ]
    },
    {
      "cell_type": "code",
      "execution_count": null,
      "metadata": {
        "id": "2qnbH7G-YrHI"
      },
      "outputs": [],
      "source": [
        "criterion = nn.CrossEntropyLoss()\n",
        "optimizer = torch.optim.Adam(model.parameters(), lr=0.001)\n"
      ]
    },
    {
      "cell_type": "markdown",
      "metadata": {
        "id": "J0Hd6wQeYrHK"
      },
      "source": [
        "## Train the model\n",
        "This time we'll run the test data through the model during each epoch, so that we can compare loss & accuracy on the same plot.\n"
      ]
    },
    {
      "cell_type": "code",
      "source": [
        "epochs = 3\n",
        "train_loss = []\n",
        "train_correct = []\n",
        "\n",
        "for i in range(epochs):\n",
        "  train_accuracy = 0\n",
        "  N_train = 0\n",
        "  for X_train, y_train in train_loader:\n",
        "    N_train += X_train.shape[0]\n",
        "\n",
        "    #train\n",
        "    X_train = X_train.view(X_train.shape[0], -1) #784dim\n",
        "    y_pred = model(X_train)\n",
        "    loss = criterion(y_pred, y_train)\n",
        "\n",
        "    #tune/update\n",
        "    optimizer.zero_grad()\n",
        "    loss.backward()\n",
        "    optimizer.step()\n",
        "\n",
        "    #keep acc\n",
        "    bath_correct = (y_pred.argmax(dim=-1) == y_train).sum()\n",
        "    train_accuracy += bath_correct\n",
        "\n",
        "  #print loss\n",
        "  print(f\"epoch: {i:2} loss: {loss.item():10.8f} accuracy:{100*train_accuracy/N_train:7.3f}% \")\n",
        "\n",
        "  #update loss\n",
        "  train_correct.append(100*train_accuracy.item()/N_train)"
      ],
      "metadata": {
        "id": "DYGyOKrsri7z",
        "colab": {
          "base_uri": "https://localhost:8080/"
        },
        "outputId": "573332cb-af88-4d27-9697-253dfed7408d"
      },
      "execution_count": null,
      "outputs": [
        {
          "output_type": "stream",
          "name": "stdout",
          "text": [
            "epoch:  0 loss: 0.10478137 accuracy: 97.835% \n",
            "epoch:  1 loss: 0.03278845 accuracy: 98.170% \n",
            "epoch:  2 loss: 0.01881175 accuracy: 98.493% \n"
          ]
        }
      ]
    },
    {
      "cell_type": "markdown",
      "source": [
        "## Test the model"
      ],
      "metadata": {
        "id": "_mQjdDhuFH_i"
      }
    },
    {
      "cell_type": "code",
      "source": [
        "# Run the testing batches\n",
        "with torch.no_grad():\n",
        "  N_test = 0\n",
        "  test_accuracy = 0\n",
        "  for X_test, y_test in test_loader:\n",
        "    N_test += X_test.shape[0]\n",
        "\n",
        "    #Apply the model\n",
        "    X_test = X_test.view(X_test.shape[0], -1)\n",
        "    y_pred = model(X_test)\n",
        "\n",
        "    #Tally the number of correct predictions\n",
        "    test_accuracy += (y_pred.argmax(dim=-1) == y_test).sum()\n",
        "\n",
        "#Testing accuracy\n",
        "test_correct = 100*test_accuracy.item()/N_test\n",
        "print(f\"accuracy : {test_correct}\")"
      ],
      "metadata": {
        "id": "fbUqmOAT5jRN",
        "colab": {
          "base_uri": "https://localhost:8080/"
        },
        "outputId": "74fa9f6f-3ab8-447b-e121-3c57dc51f2df"
      },
      "execution_count": null,
      "outputs": [
        {
          "output_type": "stream",
          "name": "stdout",
          "text": [
            "accuracy : 97.73\n"
          ]
        }
      ]
    },
    {
      "cell_type": "markdown",
      "source": [
        "# MNIST Code Along with CNN\n",
        "Now that we've seen the results of an artificial neural network model on the <a href='https://en.wikipedia.org/wiki/MNIST_database'>MNIST dataset</a>, let's work the same data with a <a href='https://en.wikipedia.org/wiki/Convolutional_neural_network'>Convolutional Neural Network</a> (CNN).\n",
        "Make sure to watch the theory lectures! You'll want to be comfortable with:\n",
        "* convolutional layers\n",
        "* filters/kernels\n",
        "* pooling\n",
        "* depth, stride and zero-padding\n",
        "\n",
        "Note that in this exercise there is no need to flatten the MNIST data, as a CNN expects 2-dimensional data."
      ],
      "metadata": {
        "id": "3f87LU3t5e7E"
      }
    },
    {
      "cell_type": "markdown",
      "metadata": {
        "id": "oMsdaqVU-QF9"
      },
      "source": [
        "## Define a convolutional model\n",
        "In the previous section we used only fully connected layers, with an input layer of 784 (our flattened 28x28 images), hidden layers of 128 and 64 neurons, and an output size representing 10 possible digits.\n",
        "\n",
        "This time we'll employ two convolutional layers and two pooling layers before feeding data through fully connected hidden layers to our output. The model follows **CONV/RELU/POOL/CONV/RELU/POOL/FC/RELU/FC**."
      ]
    },
    {
      "cell_type": "markdown",
      "source": [
        "Set up the convolutional layers with <a href='https://pytorch.org/docs/stable/nn.html#conv2d'><tt><strong>torch.nn.Conv2d()</strong></tt></a>\n",
        "\n",
        "\n",
        "The first layer has one input channel (the grayscale color channel). We'll assign 6 output channels for feature extraction. We'll set our kernel size to 3 to make a 3x3 filter."
      ],
      "metadata": {
        "id": "oUukDH4Q-geO"
      }
    },
    {
      "cell_type": "code",
      "execution_count": null,
      "metadata": {
        "id": "pyHzCQM2-QF-"
      },
      "outputs": [],
      "source": [
        "# Define layers\n",
        "conv1 = nn.Conv2d(in_channels=1, out_channels=6, kernel_size=3)\n",
        "conv2 = nn.Conv2d(in_channels=6, out_channels=16, kernel_size=3)"
      ]
    },
    {
      "cell_type": "code",
      "source": [
        "# prompt: Grab the first MNIST record\n",
        "\n",
        "image, label = train_data[0]\n",
        "print('Shape : ',image.shape,'\\nLabel :',label)\n"
      ],
      "metadata": {
        "colab": {
          "base_uri": "https://localhost:8080/"
        },
        "id": "5hhqgpMFkLom",
        "outputId": "48a0b73c-b63d-42a1-f999-ddb3c30166e9"
      },
      "execution_count": null,
      "outputs": [
        {
          "output_type": "stream",
          "name": "stdout",
          "text": [
            "Shape :  torch.Size([1, 28, 28]) \n",
            "Label : 5\n"
          ]
        }
      ]
    },
    {
      "cell_type": "code",
      "execution_count": null,
      "metadata": {
        "id": "6Cz1qx0C-QF_"
      },
      "outputs": [],
      "source": [
        "# Grab the first MNIST record\n",
        "X_train, y_train = train_data[0]"
      ]
    },
    {
      "cell_type": "code",
      "source": [
        "print(X_train.shape)"
      ],
      "metadata": {
        "colab": {
          "base_uri": "https://localhost:8080/"
        },
        "id": "R5TvJBaFkVz8",
        "outputId": "e34fad35-23a4-4cb5-ae2e-fe14fde699f8"
      },
      "execution_count": null,
      "outputs": [
        {
          "output_type": "stream",
          "name": "stdout",
          "text": [
            "torch.Size([1, 28, 28])\n"
          ]
        }
      ]
    },
    {
      "cell_type": "code",
      "source": [
        "# prompt: Create a rank-4 tensor to be passed into the model\n",
        "\n",
        "# Add a batch dimension.\n",
        "X_train = X_train.unsqueeze(0)\n",
        "print(X_train.shape)\n"
      ],
      "metadata": {
        "colab": {
          "base_uri": "https://localhost:8080/"
        },
        "id": "-cLmuZssk86i",
        "outputId": "5d88f25e-351a-4092-c595-e478002e07b2"
      },
      "execution_count": null,
      "outputs": [
        {
          "output_type": "stream",
          "name": "stdout",
          "text": [
            "torch.Size([1, 1, 1, 28, 28])\n"
          ]
        }
      ]
    },
    {
      "cell_type": "code",
      "execution_count": null,
      "metadata": {
        "id": "owEY01Cl-QF_"
      },
      "outputs": [],
      "source": [
        "# Create a rank-4 tensor to be passed into the model\n",
        "# (train_loader will have done this already)\n"
      ]
    },
    {
      "cell_type": "markdown",
      "source": [
        "Activations can be applied to the convolutions in one line using <a href='https://pytorch.org/docs/stable/nn.html#id27'><tt><strong>F.relu()</strong></tt></a> and pooling is done using <a href='https://pytorch.org/docs/stable/nn.html#maxpool2d'><tt><strong>F.max_pool2d()</strong></tt></a>"
      ],
      "metadata": {
        "id": "dZWEBhUHAZAL"
      }
    },
    {
      "cell_type": "code",
      "execution_count": null,
      "metadata": {
        "id": "6IkNY26A-QF_",
        "colab": {
          "base_uri": "https://localhost:8080/",
          "height": 524
        },
        "outputId": "5d8f4d14-fb0a-43b4-ec8f-f8d335819b47"
      },
      "outputs": [
        {
          "output_type": "stream",
          "name": "stdout",
          "text": [
            "torch.Size([1, 6, 26, 26])\n"
          ]
        },
        {
          "output_type": "display_data",
          "data": {
            "text/plain": [
              "<Figure size 1500x500 with 6 Axes>"
            ],
            "image/png": "[encoded data removed]"
          },
          "metadata": {}
        }
      ],
      "source": [
        "# Perform the first convolution/activation\n",
        "x = X_train.view(1,1,28,28)\n",
        "x = F.relu(conv1(x))\n",
        "print(x.shape)\n",
        "\n",
        "num_feature_map = x.shape[1]\n",
        "plt.figure(figsize=(15,5))\n",
        "for i in range(num_feature_map):\n",
        "  plt.subplot(2, num_feature_map//2, i+1)\n",
        "  plt.imshow(x[0,1].detach().numpy(), cmap=\"gray\")\n",
        "  plt.axis(\"off\")\n",
        "  plt.title(f\"Feature Map {i+1}\")\n",
        "plt.tight_layout()\n",
        "plt.show()\n"
      ]
    },
    {
      "cell_type": "code",
      "execution_count": null,
      "metadata": {
        "id": "KmLbpONt-QF_",
        "colab": {
          "base_uri": "https://localhost:8080/",
          "height": 507
        },
        "outputId": "48b179e1-597b-4ce1-a35c-76d2d87f92e5"
      },
      "outputs": [
        {
          "output_type": "display_data",
          "data": {
            "text/plain": [
              "<Figure size 1500x500 with 6 Axes>"
            ],
            "image/png": "[encoded data removed]"
          },
          "metadata": {}
        }
      ],
      "source": [
        "# Run the first pooling layer\n",
        "x = F.max_pool2d(x, 2, 2)\n",
        "\n",
        "num_feature_map = x.shape[1]\n",
        "plt.figure(figsize=(15,5))\n",
        "for i in range(num_feature_map):\n",
        "  plt.subplot(2, num_feature_map//2, i+1)\n",
        "  plt.imshow(x[0,1].detach().numpy(), cmap=\"gray\")\n",
        "  plt.axis(\"off\")\n",
        "  plt.title(f\"Feature Map {i+1}\")\n",
        "plt.tight_layout()\n",
        "plt.show()"
      ]
    },
    {
      "cell_type": "code",
      "execution_count": null,
      "metadata": {
        "id": "3y4-LiOZ-QGA",
        "colab": {
          "base_uri": "https://localhost:8080/",
          "height": 393
        },
        "outputId": "caab786c-ce64-4fe4-9ecf-68993bd62aff"
      },
      "outputs": [
        {
          "output_type": "display_data",
          "data": {
            "text/plain": [
              "<Figure size 1500x500 with 16 Axes>"
            ],
            "image/png": "[encoded data removed]"
          },
          "metadata": {}
        }
      ],
      "source": [
        "# Perform the second convolution/activation\n",
        "x = F.relu(conv2(x))\n",
        "\n",
        "num_feature_map = x.shape[1]\n",
        "plt.figure(figsize=(15,5))\n",
        "for i in range(num_feature_map):\n",
        "  plt.subplot(2, num_feature_map//2, i+1)\n",
        "  plt.imshow(x[0,1].detach().numpy(), cmap=\"gray\")\n",
        "  plt.axis(\"off\")\n",
        "  plt.title(f\"Feature Map {i+1}\")\n",
        "plt.tight_layout()\n",
        "plt.show()"
      ]
    },
    {
      "cell_type": "code",
      "execution_count": null,
      "metadata": {
        "id": "mYdZ5Vtu-QGA",
        "colab": {
          "base_uri": "https://localhost:8080/",
          "height": 393
        },
        "outputId": "ae0887ef-d85a-4790-95b0-6ba8285e6e0a"
      },
      "outputs": [
        {
          "output_type": "display_data",
          "data": {
            "text/plain": [
              "<Figure size 1500x500 with 16 Axes>"
            ],
            "image/png": "[encoded data removed]"
          },
          "metadata": {}
        }
      ],
      "source": [
        "# Run the second pooling layer\n",
        "x = F.max_pool2d(x, 2, 2)\n",
        "\n",
        "num_feature_map = x.shape[1]\n",
        "plt.figure(figsize=(15,5))\n",
        "for i in range(num_feature_map):\n",
        "  plt.subplot(2, num_feature_map//2, i+1)\n",
        "  plt.imshow(x[0,1].detach().numpy(), cmap=\"gray\")\n",
        "  plt.axis(\"off\")\n",
        "  plt.title(f\"Feature Map {i+1}\")\n",
        "plt.tight_layout()\n",
        "plt.show()"
      ]
    },
    {
      "cell_type": "markdown",
      "source": [
        "**Flatten** the data for the fully connected layers:\n",
        "\n"
      ],
      "metadata": {
        "id": "mZbaeQgeBas0"
      }
    },
    {
      "cell_type": "code",
      "execution_count": null,
      "metadata": {
        "id": "678I0sqF-QGA"
      },
      "outputs": [],
      "source": [
        "# Flatten the data\n",
        "x = x.view(-1,16*5*5)"
      ]
    },
    {
      "cell_type": "markdown",
      "metadata": {
        "id": "99unRGSd-QGA"
      },
      "source": [
        "<div class=\"alert alert-danger\"><strong>This is how the convolution output is passed into the fully connected layers.</strong></div>\n",
        "\n",
        "Now let's run the code."
      ]
    },
    {
      "cell_type": "code",
      "source": [
        "conv1 = nn.Conv2d(in_channels=1, out_channels=6, kernel_size=3, stride=1, padding=0)\n",
        "conv2 = nn.Conv2d(in_channels=6, out_channels=16, kernel_size=3, stride=1, padding=0)\n",
        "\n",
        "batch_size = 1\n",
        "input_tensor = torch.randn(batch_size, 1, 28, 28)\n",
        "print(\"Input shape before conv1:\", input_tensor.shape)\n",
        "\n",
        "output = conv1(input_tensor)\n",
        "print(\"Output shape after conv1:\", output.shape)\n",
        "\n",
        "output = F.max_pool2d(output, 2, 2)\n",
        "print(\"Output shape after max_pool2d:\", output.shape)\n",
        "\n",
        "output = conv2(output)\n",
        "print(\"Output shape after conv2:\", output.shape)\n",
        "\n",
        "output = F.max_pool2d(output, 2, 2)\n",
        "print(\"Output shape after max_pool2d:\", output.shape)"
      ],
      "metadata": {
        "id": "sRSuez0A-QGA",
        "colab": {
          "base_uri": "https://localhost:8080/"
        },
        "outputId": "db024a80-5439-4d98-a4ed-a672dac01f8f"
      },
      "execution_count": null,
      "outputs": [
        {
          "output_type": "stream",
          "name": "stdout",
          "text": [
            "Input shape before conv1: torch.Size([1, 1, 28, 28])\n",
            "Output shape after conv1: torch.Size([1, 6, 26, 26])\n",
            "Output shape after max_pool2d: torch.Size([1, 6, 13, 13])\n",
            "Output shape after conv2: torch.Size([1, 16, 11, 11])\n",
            "Output shape after max_pool2d: torch.Size([1, 16, 5, 5])\n"
          ]
        }
      ]
    },
    {
      "cell_type": "markdown",
      "source": [
        "## Construct CNN model"
      ],
      "metadata": {
        "id": "lMrWOIHeDfLB"
      }
    },
    {
      "cell_type": "code",
      "execution_count": null,
      "metadata": {
        "id": "4u7bZHGh-QGA"
      },
      "outputs": [],
      "source": [
        "class CNN(nn.Module):\n",
        "  def __init__(self):\n",
        "    super().__init__()\n",
        "    self.conv1 = nn.Conv2d(1,6,3)\n",
        "    self.conv2 = nn.Conv2d(6,16,3)\n",
        "    self.fc1 = nn.Linear(16*5*5, 128)\n",
        "    self.fc2 = nn.Linear(128, 64)\n",
        "    self.fc3 = nn.Linear(64, 10)\n",
        "\n",
        "  def forward(self, X):\n",
        "    X = F.relu(self.conv1(X))\n",
        "    X = F.max_pool2d(X, 2, 2)\n",
        "\n",
        "    X = F.relu(self.conv2(X))\n",
        "    X = F.max_pool2d(X, 2, 2)\n",
        "\n",
        "    X = X.view(-1, 16*5*5) #flatten\n",
        "\n",
        "    X = F.relu(self.fc1(X))\n",
        "    X = F.relu(self.fc2(X))\n",
        "\n",
        "    X = self.fc3(X)\n",
        "    return X\n"
      ]
    },
    {
      "cell_type": "code",
      "source": [
        "modelCnn = CNN()\n",
        "summary(modelCnn, input_size=(1,28,28))"
      ],
      "metadata": {
        "id": "aZ5I7gj0-QGA",
        "colab": {
          "base_uri": "https://localhost:8080/"
        },
        "outputId": "805df5f4-6664-40c9-a7e2-797883d0ca84"
      },
      "execution_count": null,
      "outputs": [
        {
          "output_type": "stream",
          "name": "stdout",
          "text": [
            "----------------------------------------------------------------\n",
            "        Layer (type)               Output Shape         Param #\n",
            "================================================================\n",
            "            Conv2d-1            [-1, 6, 26, 26]              60\n",
            "            Conv2d-2           [-1, 16, 11, 11]             880\n",
            "            Linear-3                  [-1, 128]          51,328\n",
            "            Linear-4                   [-1, 64]           8,256\n",
            "            Linear-5                   [-1, 10]             650\n",
            "================================================================\n",
            "Total params: 61,174\n",
            "Trainable params: 61,174\n",
            "Non-trainable params: 0\n",
            "----------------------------------------------------------------\n",
            "Input size (MB): 0.00\n",
            "Forward/backward pass size (MB): 0.05\n",
            "Params size (MB): 0.23\n",
            "Estimated Total Size (MB): 0.28\n",
            "----------------------------------------------------------------\n"
          ]
        }
      ]
    },
    {
      "cell_type": "code",
      "source": [
        "print(modelCnn)"
      ],
      "metadata": {
        "id": "KrBM7y62-QGB",
        "colab": {
          "base_uri": "https://localhost:8080/"
        },
        "outputId": "ccf23086-7132-477e-a3c7-b598fcc29054"
      },
      "execution_count": null,
      "outputs": [
        {
          "output_type": "stream",
          "name": "stdout",
          "text": [
            "CNN(\n",
            "  (conv1): Conv2d(1, 6, kernel_size=(3, 3), stride=(1, 1))\n",
            "  (conv2): Conv2d(6, 16, kernel_size=(3, 3), stride=(1, 1))\n",
            "  (fc1): Linear(in_features=400, out_features=128, bias=True)\n",
            "  (fc2): Linear(in_features=128, out_features=64, bias=True)\n",
            "  (fc3): Linear(in_features=64, out_features=10, bias=True)\n",
            ")\n"
          ]
        }
      ]
    },
    {
      "cell_type": "markdown",
      "metadata": {
        "id": "qhTcBjUPYqRR"
      },
      "source": [
        "## Define loss function & optimizer"
      ]
    },
    {
      "cell_type": "code",
      "execution_count": null,
      "metadata": {
        "id": "AYb9T-zDYqRR"
      },
      "outputs": [],
      "source": [
        "criterion = nn.CrossEntropyLoss()\n",
        "optimizer = torch.optim.Adam(modelCnn.parameters(), lr=0.001)"
      ]
    },
    {
      "cell_type": "markdown",
      "metadata": {
        "id": "RguHsEwYYqRS"
      },
      "source": [
        "## Train the model\n",
        "This time we'll feed the data directly into the model without flattening it first."
      ]
    },
    {
      "cell_type": "code",
      "source": [
        "epochs = 3\n",
        "train_loss = []\n",
        "train_correct = []\n",
        "\n",
        "for i in range(epochs):\n",
        "  train_accuracy = 0\n",
        "  N_train = 0\n",
        "  for X_train, y_train in train_loader:\n",
        "    N_train += X_train.shape[0]\n",
        "\n",
        "    #train\n",
        "    y_pred = modelCnn(X_train)\n",
        "    loss = criterion(y_pred, y_train)\n",
        "\n",
        "    #tune/update\n",
        "    optimizer.zero_grad()\n",
        "    loss.backward()\n",
        "    optimizer.step()\n",
        "\n",
        "    #keep acc\n",
        "    bath_correct = (y_pred.argmax(dim=-1) == y_train).sum()\n",
        "    train_accuracy += bath_correct\n",
        "\n",
        "  #print loss\n",
        "  print(f\"epoch: {i:2} loss: {loss.item():10.8f} accuracy:{100*train_accuracy/N_train:7.3f}% \")\n",
        "\n",
        "  #update loss\n",
        "  train_correct.append(100*train_accuracy.item()/N_train)"
      ],
      "metadata": {
        "id": "pm8a5ZngE_jw",
        "colab": {
          "base_uri": "https://localhost:8080/"
        },
        "outputId": "c3db6e5b-cf6c-498b-84a2-9bbfb8ad6519"
      },
      "execution_count": null,
      "outputs": [
        {
          "output_type": "stream",
          "name": "stdout",
          "text": [
            "epoch:  0 loss: 0.03944813 accuracy: 89.585% \n",
            "epoch:  1 loss: 0.02343314 accuracy: 96.837% \n",
            "epoch:  2 loss: 0.14255343 accuracy: 97.742% \n"
          ]
        }
      ]
    },
    {
      "cell_type": "markdown",
      "source": [
        "## Test the model"
      ],
      "metadata": {
        "id": "R65pljAUFtih"
      }
    },
    {
      "cell_type": "code",
      "source": [
        "# Run the testing batches\n",
        "with torch.no_grad():\n",
        "  N_test = 0\n",
        "  test_accuracy = 0\n",
        "  for X_test, y_test in test_loader:\n",
        "    N_test += X_test.shape[0]\n",
        "\n",
        "    #Apply the model\n",
        "    y_pred = modelCnn(X_test)\n",
        "\n",
        "    #Tally the number of correct predictions\n",
        "    test_accuracy += (y_pred.argmax(dim=-1) == y_test).sum()\n",
        "\n",
        "#Testing accuracy\n",
        "test_correct = 100*test_accuracy.item()/N_test\n",
        "print(f\"accuracy : {test_correct}\")"
      ],
      "metadata": {
        "id": "FL9ZvowpFt2S",
        "colab": {
          "base_uri": "https://localhost:8080/"
        },
        "outputId": "e860558c-bdeb-4c6e-c643-060c6098fedd"
      },
      "execution_count": null,
      "outputs": [
        {
          "output_type": "stream",
          "name": "stdout",
          "text": [
            "accuracy : 98.2\n"
          ]
        }
      ]
    },
    {
      "cell_type": "markdown",
      "source": [
        "# Workshop on CIFAR-10 Dataset\n",
        "\n",
        "The <a href='https://en.wikipedia.org/wiki/CIFAR-10'>CIFAR-10</a> dataset is similar to MNIST, except that instead of one color channel (grayscale) there are three channels (RGB).<br>\n",
        "Where an MNIST image has a size of (1,28,28), **CIFAR images are (3,32,32). There are 10 categories** an image may fall under:\n",
        "0. airplane\n",
        "1. automobile\n",
        "2. bird\n",
        "3. cat\n",
        "4. deer\n",
        "5. dog\n",
        "6. frog\n",
        "7. horse\n",
        "8. ship\n",
        "9. truck\n",
        "\n",
        "As with the previous code along, make sure to watch the theory lectures! You'll want to be comfortable with:\n",
        "* convolutional layers\n",
        "* filters/kernels\n",
        "* pooling\n",
        "* depth, stride and zero-padding"
      ],
      "metadata": {
        "id": "1M2fa1MQGSY3"
      }
    },
    {
      "cell_type": "markdown",
      "source": [
        "##6653380120-2 กัมแพงเพชร สิงห์ขรณ์ sec.1"
      ],
      "metadata": {
        "id": "ur9gmT9Sm7aK"
      }
    },
    {
      "cell_type": "markdown",
      "source": [
        "## Load Dataset"
      ],
      "metadata": {
        "id": "UhHWccBZHRum"
      }
    },
    {
      "cell_type": "code",
      "source": [
        "#Define transforms\n",
        "transform = transforms.Compose([transforms.ToTensor(),])\n",
        "\n",
        "#Load data\n",
        "train_data = datasets.CIFAR10(\"CIFAR-10\",\n",
        "                            download = True,\n",
        "                            train = True,\n",
        "                            transform = transform)\n",
        "\n",
        "test_data = datasets.CIFAR10(\"CIFAR-10\",\n",
        "                            download = True,\n",
        "                            train = False,\n",
        "                            transform = transform)\n",
        "\n",
        "#batch loading with DataLoader\n",
        "trainloader = DataLoader(train_data,\n",
        "                          batch_size=64,\n",
        "                          shuffle=True)\n",
        "\n",
        "testloader = DataLoader(test_data,\n",
        "                         batch_size=64,\n",
        "                         shuffle=True)\n",
        "\n",
        "#Define classes\n",
        "classes = ('plane', 'car', 'bird', 'cat', 'deer', 'dog', 'frog', 'horse', 'ship', 'truck')"
      ],
      "metadata": {
        "id": "eQU5ytq0_pO2",
        "colab": {
          "base_uri": "https://localhost:8080/"
        },
        "outputId": "39d17133-9330-427f-e659-c00f9f6c9a10"
      },
      "execution_count": null,
      "outputs": [
        {
          "output_type": "stream",
          "name": "stdout",
          "text": [
            "Downloading https://www.cs.toronto.edu/~kriz/cifar-10-python.tar.gz to CIFAR-10/cifar-10-python.tar.gz\n"
          ]
        },
        {
          "output_type": "stream",
          "name": "stderr",
          "text": [
            "100%|██████████| 170498071/170498071 [00:18<00:00, 9157318.13it/s]\n"
          ]
        },
        {
          "output_type": "stream",
          "name": "stdout",
          "text": [
            "Extracting CIFAR-10/cifar-10-python.tar.gz to CIFAR-10\n",
            "Files already downloaded and verified\n"
          ]
        }
      ]
    },
    {
      "cell_type": "markdown",
      "metadata": {
        "id": "SVwTG8NU-Fpm"
      },
      "source": [
        "## View a batch of images"
      ]
    },
    {
      "cell_type": "code",
      "execution_count": null,
      "metadata": {
        "id": "rEWTHrpZ-Fpm",
        "colab": {
          "base_uri": "https://localhost:8080/",
          "height": 800
        },
        "outputId": "887a6dad-53d2-4fd4-b46e-2403399bd42c"
      },
      "outputs": [
        {
          "output_type": "stream",
          "name": "stdout",
          "text": [
            "Label: [    4     1     0     4     2     8     6     1     7     7]\n",
            "Class:  deer car plane deer bird ship frog car horse horse\n"
          ]
        },
        {
          "output_type": "display_data",
          "data": {
            "text/plain": [
              "<Figure size 1500x1500 with 1 Axes>"
            ],
            "image/png": "[encoded data removed]"
          },
          "metadata": {}
        }
      ],
      "source": [
        "from torchvision.utils import make_grid\n",
        "np.set_printoptions(formatter=dict(int=lambda x: f'{x:5}')) # to widen the printed array\n",
        "\n",
        "for images,labels in trainloader:\n",
        "    break\n",
        "\n",
        "# Print the labels\n",
        "print('Label:', labels[:10].numpy())\n",
        "print('Class: ', *np.array([classes[i] for i in labels[:10]]))\n",
        "\n",
        "# Print the images\n",
        "im = make_grid(images[:15], nrow=5)\n",
        "plt.figure(figsize=(15,15))\n",
        "plt.imshow(np.transpose(im.numpy(), (1, 2, 0)));"
      ]
    },
    {
      "cell_type": "markdown",
      "source": [
        "## Tasks:\n",
        "Create your CNN based on the given architecture:\n",
        "\n",
        "1. The first layer comprises 32 of 3x3 filters\n",
        "\n",
        "2. The first layer comprises 16 of 3x3 filters\n",
        "\n",
        "3. For the module of the fully connected layers, it comprises 4 linear layers with size 128, 64, 32 and 10.\n",
        "\n",
        "4. In each layer, the ReLU function is performed as the activation function.\n",
        "\n",
        "5. The max pooling is used in every convolution layers."
      ],
      "metadata": {
        "id": "XiWQiosZtpbj"
      }
    },
    {
      "cell_type": "markdown",
      "source": [
        "## Construct CNN Model"
      ],
      "metadata": {
        "id": "59idURViIjKF"
      }
    },
    {
      "cell_type": "code",
      "source": [
        "conv1 = nn.Conv2d(in_channels=3, out_channels=32, kernel_size=3)\n",
        "conv2 = nn.Conv2d(in_channels=32, out_channels=16, kernel_size=3)\n",
        "\n",
        "batch_size = 1\n",
        "input_tensor = torch.randn(batch_size, 3, 32, 32)\n",
        "print(\"Input shape before conv1:\", input_tensor.shape)\n",
        "\n",
        "output = conv1(input_tensor)\n",
        "print(\"Output shape after conv1:\", output.shape)\n",
        "\n",
        "output = F.max_pool2d(output, 2, 2)\n",
        "print(\"Output shape after max_pool2d:\", output.shape)\n",
        "\n",
        "output = conv2(output)\n",
        "print(\"Output shape after conv2:\", output.shape)\n",
        "\n",
        "output = F.max_pool2d(output, 2, 2)\n",
        "print(\"Output shape after max_pool2d:\", output.shape)"
      ],
      "metadata": {
        "colab": {
          "base_uri": "https://localhost:8080/"
        },
        "id": "axsNEEVXuikG",
        "outputId": "564d9e9f-250e-45f0-f0b4-983b399fe81a"
      },
      "execution_count": null,
      "outputs": [
        {
          "output_type": "stream",
          "name": "stdout",
          "text": [
            "Input shape before conv1: torch.Size([1, 3, 32, 32])\n",
            "Output shape after conv1: torch.Size([1, 32, 30, 30])\n",
            "Output shape after max_pool2d: torch.Size([1, 32, 15, 15])\n",
            "Output shape after conv2: torch.Size([1, 16, 13, 13])\n",
            "Output shape after max_pool2d: torch.Size([1, 16, 6, 6])\n"
          ]
        }
      ]
    },
    {
      "cell_type": "code",
      "source": [
        "class CNN(nn.Module):\n",
        "  def __init__(self):\n",
        "    super().__init__()\n",
        "    self.conv1 = nn.Conv2d(3, 32, 3)\n",
        "    self.conv2 = nn.Conv2d(32,16,3)\n",
        "    self.fc1 = nn.Linear(16*6*6, 128)\n",
        "    self.fc2 = nn.Linear(128, 64)\n",
        "    self.fc3 = nn.Linear(64, 32)\n",
        "    self.fc4 = nn.Linear(32, 10)\n",
        "\n",
        "  def forward(self, X):\n",
        "    X = F.relu(self.conv1(X))\n",
        "    X = F.max_pool2d(X, 2, 2)\n",
        "\n",
        "    X = F.relu(self.conv2(X))\n",
        "    X = F.max_pool2d(X, 2, 2)\n",
        "\n",
        "    X = X.view(-1, 16*6*6)\n",
        "\n",
        "    X = F.relu(self.fc1(X))\n",
        "    X = F.relu(self.fc2(X))\n",
        "    X = F.relu(self.fc3(X))\n",
        "    X = self.fc4(X)\n",
        "    return X"
      ],
      "metadata": {
        "id": "18HWgm4jwv3P"
      },
      "execution_count": null,
      "outputs": []
    },
    {
      "cell_type": "code",
      "source": [
        "modelCNN = CNN()\n",
        "device = torch.device(\"cuda\" if torch.cuda.is_available() else \"cpu\")\n",
        "modelCNN.to(device)\n",
        "\n",
        "summary(modelCNN, input_size=(3,32,32))"
      ],
      "metadata": {
        "colab": {
          "base_uri": "https://localhost:8080/"
        },
        "id": "OkUJ4zmL1qmZ",
        "outputId": "2556cdee-763e-4c69-8018-178b7b70731f"
      },
      "execution_count": null,
      "outputs": [
        {
          "output_type": "stream",
          "name": "stdout",
          "text": [
            "----------------------------------------------------------------\n",
            "        Layer (type)               Output Shape         Param #\n",
            "================================================================\n",
            "            Conv2d-1           [-1, 32, 30, 30]             896\n",
            "            Conv2d-2           [-1, 16, 13, 13]           4,624\n",
            "            Linear-3                  [-1, 128]          73,856\n",
            "            Linear-4                   [-1, 64]           8,256\n",
            "            Linear-5                   [-1, 32]           2,080\n",
            "            Linear-6                   [-1, 10]             330\n",
            "================================================================\n",
            "Total params: 90,042\n",
            "Trainable params: 90,042\n",
            "Non-trainable params: 0\n",
            "----------------------------------------------------------------\n",
            "Input size (MB): 0.01\n",
            "Forward/backward pass size (MB): 0.24\n",
            "Params size (MB): 0.34\n",
            "Estimated Total Size (MB): 0.60\n",
            "----------------------------------------------------------------\n"
          ]
        }
      ]
    },
    {
      "cell_type": "markdown",
      "source": [
        "## Define loss function & optimizer"
      ],
      "metadata": {
        "id": "_h1CFf-TIplj"
      }
    },
    {
      "cell_type": "code",
      "source": [
        "criterion = nn.CrossEntropyLoss()\n",
        "optimizer = torch.optim.Adam(modelCNN.parameters(), lr=0.001)"
      ],
      "metadata": {
        "id": "bNfRd4hc3txg"
      },
      "execution_count": null,
      "outputs": []
    },
    {
      "cell_type": "markdown",
      "source": [
        "## Train the model"
      ],
      "metadata": {
        "id": "usCQDQMgIwAt"
      }
    },
    {
      "cell_type": "code",
      "source": [
        "epochs = 50\n",
        "train_loss = []\n",
        "train_correct = []\n",
        "\n",
        "for i in range(epochs):\n",
        "  train_accuracy = 0\n",
        "  N_train = 0\n",
        "  for X_train, y_train in trainloader:\n",
        "    N_train += X_train.shape[0]\n",
        "\n",
        "    # Move X_train and y_train to the device\n",
        "    X_train = X_train.to(device)\n",
        "    y_train = y_train.to(device)\n",
        "\n",
        "    #train\n",
        "    y_pred = modelCNN(X_train)\n",
        "    loss = criterion(y_pred, y_train)\n",
        "\n",
        "    #tune/update\n",
        "    optimizer.zero_grad()\n",
        "    loss.backward()\n",
        "    optimizer.step()\n",
        "\n",
        "    #keep acc\n",
        "    bath_correct = (y_pred.argmax(dim=-1) == y_train).sum()\n",
        "    train_accuracy += bath_correct\n",
        "\n",
        "  #print loss\n",
        "  print(f\"epoch: {i:2} loss: {loss.item():10.8f} accuracy:{100*train_accuracy/N_train:7.3f}% \")\n",
        "\n",
        "  #update loss\n",
        "  train_correct.append(100*train_accuracy.item()/N_train)"
      ],
      "metadata": {
        "id": "BUbilW8AI0Oy",
        "colab": {
          "base_uri": "https://localhost:8080/"
        },
        "outputId": "fd64a375-f07d-45fd-f732-0b2525d31d81"
      },
      "execution_count": null,
      "outputs": [
        {
          "output_type": "stream",
          "name": "stdout",
          "text": [
            "epoch:  0 loss: 1.36519158 accuracy: 33.830% \n",
            "epoch:  1 loss: 1.32640529 accuracy: 48.126% \n",
            "epoch:  2 loss: 1.26765561 accuracy: 54.126% \n",
            "epoch:  3 loss: 1.15115619 accuracy: 58.128% \n",
            "epoch:  4 loss: 1.20397866 accuracy: 61.364% \n",
            "epoch:  5 loss: 1.07899952 accuracy: 63.668% \n",
            "epoch:  6 loss: 1.14907598 accuracy: 64.974% \n",
            "epoch:  7 loss: 0.70780265 accuracy: 66.722% \n",
            "epoch:  8 loss: 0.59602678 accuracy: 67.790% \n",
            "epoch:  9 loss: 1.16311347 accuracy: 69.040% \n",
            "epoch: 10 loss: 0.93183959 accuracy: 70.160% \n",
            "epoch: 11 loss: 0.98043513 accuracy: 71.158% \n",
            "epoch: 12 loss: 0.61534184 accuracy: 72.148% \n",
            "epoch: 13 loss: 0.40856478 accuracy: 72.810% \n",
            "epoch: 14 loss: 0.57847965 accuracy: 73.650% \n",
            "epoch: 15 loss: 0.87997603 accuracy: 74.510% \n",
            "epoch: 16 loss: 0.56260550 accuracy: 75.312% \n",
            "epoch: 17 loss: 0.34798336 accuracy: 76.090% \n",
            "epoch: 18 loss: 0.46261582 accuracy: 76.684% \n",
            "epoch: 19 loss: 0.59752548 accuracy: 77.236% \n",
            "epoch: 20 loss: 0.58532739 accuracy: 77.884% \n",
            "epoch: 21 loss: 0.74281871 accuracy: 78.324% \n",
            "epoch: 22 loss: 0.73148251 accuracy: 78.946% \n",
            "epoch: 23 loss: 0.46324921 accuracy: 79.278% \n",
            "epoch: 24 loss: 0.37345430 accuracy: 79.948% \n",
            "epoch: 25 loss: 0.75330991 accuracy: 80.534% \n",
            "epoch: 26 loss: 0.18150704 accuracy: 80.794% \n",
            "epoch: 27 loss: 1.13616717 accuracy: 81.192% \n",
            "epoch: 28 loss: 0.61173910 accuracy: 81.838% \n",
            "epoch: 29 loss: 0.60771239 accuracy: 81.954% \n",
            "epoch: 30 loss: 0.59534800 accuracy: 82.470% \n",
            "epoch: 31 loss: 0.44884932 accuracy: 82.898% \n",
            "epoch: 32 loss: 0.57809734 accuracy: 83.144% \n",
            "epoch: 33 loss: 0.31224182 accuracy: 83.914% \n",
            "epoch: 34 loss: 0.44982222 accuracy: 83.890% \n",
            "epoch: 35 loss: 0.50275719 accuracy: 84.360% \n",
            "epoch: 36 loss: 0.15956110 accuracy: 84.778% \n",
            "epoch: 37 loss: 0.15683013 accuracy: 84.730% \n",
            "epoch: 38 loss: 0.23048948 accuracy: 85.316% \n",
            "epoch: 39 loss: 1.39040470 accuracy: 85.682% \n",
            "epoch: 40 loss: 0.45749080 accuracy: 85.852% \n",
            "epoch: 41 loss: 0.32061338 accuracy: 86.250% \n",
            "epoch: 42 loss: 0.16261238 accuracy: 86.420% \n",
            "epoch: 43 loss: 0.40760338 accuracy: 86.594% \n",
            "epoch: 44 loss: 0.17190211 accuracy: 86.642% \n",
            "epoch: 45 loss: 0.34404755 accuracy: 87.472% \n",
            "epoch: 46 loss: 0.44845939 accuracy: 87.032% \n",
            "epoch: 47 loss: 0.55371118 accuracy: 87.668% \n",
            "epoch: 48 loss: 0.15700497 accuracy: 87.574% \n",
            "epoch: 49 loss: 0.12803647 accuracy: 88.292% \n"
          ]
        }
      ]
    },
    {
      "cell_type": "markdown",
      "source": [
        "## Test the model"
      ],
      "metadata": {
        "id": "zaFQRo5OI0nW"
      }
    },
    {
      "cell_type": "code",
      "source": [
        "# Run the testing batches\n",
        "with torch.no_grad():\n",
        "  N_test = 0\n",
        "  test_accuracy = 0\n",
        "  for X_test, y_test in testloader:\n",
        "    N_test += X_test.shape[0]\n",
        "\n",
        "    # Move X_test and y_test to the device\n",
        "    X_test = X_test.to(device) # Move X_test to the same device as the model\n",
        "    y_test = y_test.to(device) # Move y_test to the same device as the model\n",
        "\n",
        "    #Apply the model\n",
        "    y_pred = modelCNN(X_test)\n",
        "\n",
        "    #Tally the number of correct predictions\n",
        "    test_accuracy += (y_pred.argmax(dim=-1) == y_test).sum()\n",
        "\n",
        "#Testing accuracy\n",
        "test_correct = 100*test_accuracy.item()/N_test\n",
        "print(f\"accuracy : {test_correct}\")"
      ],
      "metadata": {
        "id": "VO5d3MhzI08H",
        "colab": {
          "base_uri": "https://localhost:8080/"
        },
        "outputId": "67a4ff93-a434-4490-e289-590ae7906681"
      },
      "execution_count": null,
      "outputs": [
        {
          "output_type": "stream",
          "name": "stdout",
          "text": [
            "accuracy : 64.47\n"
          ]
        }
      ]
    }
  ]
}